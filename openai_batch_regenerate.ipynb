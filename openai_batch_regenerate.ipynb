{
 "cells": [
  {
   "cell_type": "code",
   "execution_count": 47,
   "id": "3d0473de-53d3-415c-9378-b650068f6fba",
   "metadata": {},
   "outputs": [],
   "source": [
    "from datasets import load_dataset\n",
    "\n",
    "df = load_dataset('amphora/natural_reasoning_nonmath_300k',split='train').to_pandas()\n",
    "# df = df[df.category.str.contains('/')]\n",
    "# df = df[df.category.str.contains('Science')]\n",
    "df = df[df.category=='Science/Physics']\n",
    "df = df.sample(1500)"
   ]
  },
  {
   "cell_type": "code",
   "execution_count": 38,
   "id": "7f010134-cec9-47f9-b939-2f8615046d76",
   "metadata": {},
   "outputs": [],
   "source": [
    "qrys = []\n",
    "for _,row in df.iterrows():\n",
    "    from prompts import score_question\n",
    "    score_question += f\"\\n\\n {row.prompt}\"\n",
    "    package = {\n",
    "    \"custom_id\": f\"request-{_}\", \n",
    "    \"method\": \"POST\", \n",
    "    \"url\": \"/v1/chat/completions\", \n",
    "    \"body\": {\n",
    "        \"model\": \"gpt-4o\", \n",
    "        \"messages\": [\n",
    "            {\"role\": \"system\", \"content\": \"You are a helpful assistant.\"},\n",
    "            {\"role\": \"user\", \"content\":score_question}\n",
    "        ],\n",
    "        # \"max_tokens\": 1000\n",
    "    }}\n",
    "    qrys.append(package)\n",
    "\n",
    "import json\n",
    "\n",
    "# Open a file in write mode\n",
    "with open(\"batch/score_1000_qry.jsonl\", \"w\") as f:\n",
    "    for entry in qrys:\n",
    "        # Write the dictionary as a JSON string followed by a newline\n",
    "        f.write(json.dumps(entry) + \"\\n\")"
   ]
  },
  {
   "cell_type": "code",
   "execution_count": 40,
   "id": "4b2fa007-ccd2-44c2-b20c-2a2073b6a9f0",
   "metadata": {},
   "outputs": [],
   "source": [
    "from openai import OpenAI\n",
    "client = OpenAI(api_key=openai_api_key)\n",
    "\n",
    "batch_input_file = client.files.create(\n",
    "    file=open(\"batch/score_1000_qry.jsonl\", \"rb\"),\n",
    "    purpose=\"batch\"\n",
    ")\n",
    "\n",
    "batch_input_file_id = batch_input_file.id\n",
    "client.batches.create(\n",
    "    input_file_id=batch_input_file_id,\n",
    "    endpoint=\"/v1/chat/completions\",\n",
    "    completion_window=\"24h\",\n",
    "    metadata={\n",
    "        \"description\": \"nightly eval job\"\n",
    "    }\n",
    ")"
   ]
  },
  {
   "cell_type": "code",
   "execution_count": 41,
   "id": "76880aea-0eb4-4084-9945-9177385efa38",
   "metadata": {},
   "outputs": [
    {
     "data": {
      "text/plain": [
       "Batch(id='batch_67fcb5fb05008190a9220ed130c8797a', completion_window='24h', created_at=1744614907, endpoint='/v1/chat/completions', input_file_id='file-Rq4x8PxKRYfQuwRxEGSVXp', object='batch', status='validating', cancelled_at=None, cancelling_at=None, completed_at=None, error_file_id=None, errors=None, expired_at=None, expires_at=1744701307, failed_at=None, finalizing_at=None, in_progress_at=None, metadata={'description': 'nightly eval job'}, output_file_id=None, request_counts=BatchRequestCounts(completed=0, failed=0, total=0))"
      ]
     },
     "execution_count": 41,
     "metadata": {},
     "output_type": "execute_result"
    }
   ],
   "source": [
    "batch = client.batches.retrieve('batch_67fcb5fb05008190a9220ed130c8797a')\n",
    "print(batch)"
   ]
  },
  {
   "cell_type": "code",
   "execution_count": 46,
   "id": "79d121aa-10cf-44c0-b217-4c5dd67ac6e4",
   "metadata": {},
   "outputs": [
    {
     "name": "stdout",
     "output_type": "stream",
     "text": [
      "File downloaded successfully and saved as 'batch/score_1000_qry_output.jsonl'.\n"
     ]
    }
   ],
   "source": [
    "from src import download_openai_file\n",
    "\n",
    "download_openai_file(\n",
    "    'file-HZKPnPWSiaZyzsF6PBd6Y1',\n",
    "    openai_api_key,\n",
    "    \"batch/score_1000_qry_output.jsonl\"\n",
    ")"
   ]
  },
  {
   "cell_type": "code",
   "execution_count": 48,
   "id": "ec786896-b811-443b-abe0-cceeb8a9c1f1",
   "metadata": {},
   "outputs": [],
   "source": [
    "from src import load_jsonl_file\n",
    "\n",
    "output = load_jsonl_file('batch/score_1000_qry_output.jsonl')\n",
    "\n",
    "final = []\n",
    "for item in output:\n",
    "    idx = item['custom_id'].split('-')[1]\n",
    "    prompt, reference, category, llama, _ = df[df.index==int(idx)].values[0]\n",
    "    judge = item['response']['body']['choices'][0]['message']['content']\n",
    "    final.append(\n",
    "        [prompt, reference, category, llama, judge]\n",
    "    )\n",
    "\n",
    "import pandas as pd\n",
    "df = pd.DataFrame(final,columns = ['o_prompt','o_reference','o_category','o_response','judge'])"
   ]
  },
  {
   "cell_type": "code",
   "execution_count": 34,
   "id": "a470ac24-0ee3-4e23-91ac-6dc659bb2931",
   "metadata": {},
   "outputs": [],
   "source": [
    "\n",
    "qrys = []\n",
    "for _,row in df.iterrows():\n",
    "    from prompts import score_question,refine_question\n",
    "    score_question += f\"\\n\\n {row.o_prompt}\"\n",
    "    package = {\n",
    "    \"custom_id\": f\"request-{_}\", \n",
    "    \"method\": \"POST\", \n",
    "    \"url\": \"/v1/chat/completions\", \n",
    "    \"body\": {\n",
    "        \"model\": \"gpt-4o\", \n",
    "        \"messages\": [\n",
    "            {\"role\": \"system\", \"content\": \"You are a helpful assistant.\"},\n",
    "            {\"role\": \"user\", \"content\":score_question},\n",
    "            {\"role\": \"assistant\", \"content\":row.judge},\n",
    "            {\"role\": \"user\", \"content\":refine_question}\n",
    "        ],\n",
    "        # \"max_tokens\": 1000\n",
    "    }}\n",
    "    qrys.append(package)\n",
    "\n",
    "import json\n",
    "\n",
    "# Open a file in write mode\n",
    "with open(\"batch/score_1000_refine.jsonl\", \"w\") as f:\n",
    "    for entry in qrys:\n",
    "        # Write the dictionary as a JSON string followed by a newline\n",
    "        f.write(json.dumps(entry) + \"\\n\")"
   ]
  },
  {
   "cell_type": "code",
   "execution_count": 36,
   "id": "0df3c73f-d7a9-41a8-9455-4648c3b390d6",
   "metadata": {},
   "outputs": [
    {
     "data": {
      "text/plain": [
       "Batch(id='batch_67fcc1238ab081909e3493c7efdec8d1', completion_window='24h', created_at=1744617763, endpoint='/v1/chat/completions', input_file_id='file-J51Q5hPat5EZGBLE9bbuEi', object='batch', status='validating', cancelled_at=None, cancelling_at=None, completed_at=None, error_file_id=None, errors=None, expired_at=None, expires_at=1744704163, failed_at=None, finalizing_at=None, in_progress_at=None, metadata={'description': 'nightly eval job'}, output_file_id=None, request_counts=BatchRequestCounts(completed=0, failed=0, total=0))"
      ]
     },
     "execution_count": 36,
     "metadata": {},
     "output_type": "execute_result"
    }
   ],
   "source": [
    "from openai import OpenAI\n",
    "client = OpenAI(api_key=openai_api_key)\n",
    "\n",
    "batch_input_file = client.files.create(\n",
    "    file=open(\"batch/score_1000_refine.jsonl\", \"rb\"),\n",
    "    purpose=\"batch\"\n",
    ")\n",
    "\n",
    "batch_input_file_id = batch_input_file.id\n",
    "client.batches.create(\n",
    "    input_file_id=batch_input_file_id,\n",
    "    endpoint=\"/v1/chat/completions\",\n",
    "    completion_window=\"24h\",\n",
    "    metadata={\n",
    "        \"description\": \"nightly eval job\"\n",
    "    }\n",
    ")"
   ]
  },
  {
   "cell_type": "code",
   "execution_count": 38,
   "id": "e2297c6c-f3e4-4190-9297-097e09bb7957",
   "metadata": {},
   "outputs": [
    {
     "name": "stdout",
     "output_type": "stream",
     "text": [
      "Batch(id='batch_67fcc1238ab081909e3493c7efdec8d1', completion_window='24h', created_at=1744617763, endpoint='/v1/chat/completions', input_file_id='file-J51Q5hPat5EZGBLE9bbuEi', object='batch', status='completed', cancelled_at=None, cancelling_at=None, completed_at=1744618178, error_file_id=None, errors=None, expired_at=None, expires_at=1744704163, failed_at=None, finalizing_at=1744618055, in_progress_at=1744617765, metadata={'description': 'nightly eval job'}, output_file_id='file-35RuGYFctFkQrvPuEVRjSm', request_counts=BatchRequestCounts(completed=1500, failed=0, total=1500))\n"
     ]
    }
   ],
   "source": [
    "batch = client.batches.retrieve('batch_67fcc1238ab081909e3493c7efdec8d1')\n",
    "print(batch)"
   ]
  },
  {
   "cell_type": "code",
   "execution_count": 41,
   "id": "8b11130e-c1c6-40cd-8fcf-dd65d1d9bb93",
   "metadata": {},
   "outputs": [
    {
     "name": "stdout",
     "output_type": "stream",
     "text": [
      "File downloaded successfully and saved as 'batch/score_1000_refine_output.jsonl'.\n"
     ]
    }
   ],
   "source": [
    "download_openai_file(\n",
    "    'file-35RuGYFctFkQrvPuEVRjSm',\n",
    "    openai_api_key,\n",
    "    \"batch/score_1000_refine_output.jsonl\"\n",
    ")"
   ]
  },
  {
   "cell_type": "code",
   "execution_count": 61,
   "id": "9923736b-6bb1-44ad-ac17-61c3260d5d54",
   "metadata": {},
   "outputs": [],
   "source": [
    "from src import load_jsonl_file\n",
    "\n",
    "data = load_jsonl_file(\"batch/score_1000_refine_output.jsonl\")\n",
    "\n",
    "final = []\n",
    "for item in data:\n",
    "    try:\n",
    "        idx = item['custom_id'].split('-')[1]\n",
    "        prompt, reference, category, llama, judge = df[df.index==int(idx)].values[0]\n",
    "        refined = item['response']['body']['choices'][0]['message']['content']\n",
    "        refined = refined.split('[Refined Question]')[1].strip()\n",
    "        final.append(\n",
    "            [prompt, reference, category, llama, judge,refined]\n",
    "        )\n",
    "    except:\n",
    "        continue"
   ]
  },
  {
   "cell_type": "code",
   "execution_count": 64,
   "id": "36eb69fc-cdbf-4d42-a3a9-ffbfcc6ad21f",
   "metadata": {},
   "outputs": [],
   "source": [
    "df = pd.DataFrame(final,columns=['o_prompt','o_reference','o_category','o_response','judge','r_prompt'])"
   ]
  },
  {
   "cell_type": "code",
   "execution_count": 68,
   "id": "24b36426-fc86-47ce-8d48-39f254fe52ce",
   "metadata": {},
   "outputs": [],
   "source": [
    "df.to_parquet('snr_prompts_20250414.parquet',index=False)"
   ]
  }
 ],
 "metadata": {
  "kernelspec": {
   "display_name": "Python 3 (ipykernel)",
   "language": "python",
   "name": "python3"
  },
  "language_info": {
   "codemirror_mode": {
    "name": "ipython",
    "version": 3
   },
   "file_extension": ".py",
   "mimetype": "text/x-python",
   "name": "python",
   "nbconvert_exporter": "python",
   "pygments_lexer": "ipython3",
   "version": "3.11.11"
  }
 },
 "nbformat": 4,
 "nbformat_minor": 5
}
